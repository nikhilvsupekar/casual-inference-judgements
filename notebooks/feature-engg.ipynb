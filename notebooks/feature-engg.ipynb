{
 "cells": [
  {
   "cell_type": "code",
   "execution_count": 1,
   "metadata": {},
   "outputs": [],
   "source": [
    "import numpy as np\n",
    "import pandas as pd\n",
    "import fuzzymatcher\n",
    "\n",
    "pd.set_option('display.max_columns', None)\n",
    "pd.options.display.max_rows = 100\n"
   ]
  },
  {
   "cell_type": "code",
   "execution_count": 2,
   "metadata": {},
   "outputs": [],
   "source": [
    "def print_col_names(df):\n",
    "    for col in df.columns:\n",
    "        print(col)"
   ]
  },
  {
   "cell_type": "code",
   "execution_count": 4,
   "metadata": {},
   "outputs": [],
   "source": [
    "\n",
    "def merge_data(opinions_df, aoc_df, judge2_df):\n",
    "    opinions_cols = [\n",
    "    #     'docket_num',\n",
    "        'docket_num_standardized',\n",
    "    #     'docket_num_normalized',\n",
    "    #     'full_case_name',\n",
    "    #     'short_case_name',\n",
    "    #     'party_1',\n",
    "    #     'party_2',\n",
    "        'court_name',\n",
    "    #     'court_code',\n",
    "    #     'this_case_cite',\n",
    "    #     'this_cite_definition',\n",
    "    #     'this_cite_page_scheme',\n",
    "        'case_opinion_by',\n",
    "        'judges',\n",
    "    #     'decision_date_str',\n",
    "        'decision_date',\n",
    "    #     'filing_date_str',\n",
    "        'filing_date',\n",
    "    #     'dc_creator',\n",
    "    #     'dc_identifier',\n",
    "    #     'dc_identifier_scheme',\n",
    "    #     'dc_source',\n",
    "    #     'dc_date',\n",
    "    #     'pagination_scheme',\n",
    "    #     'cited_docs',\n",
    "    #     'doc_details',\n",
    "    #     'classes'\n",
    "    ]\n",
    "\n",
    "\n",
    "    aoc_cols = [\n",
    "        'CIRCUIT',\n",
    "        'FILEDATE',\n",
    "        'JURIS',\n",
    "        'NOS',\n",
    "        'ORIGIN',\n",
    "        'RESIDENC',\n",
    "        'CLASSACT',\n",
    "        'DEMANDED',\n",
    "        'TERMDATE',\n",
    "        'DISP',\n",
    "        'PROCPROG',\n",
    "        'NOJ',\n",
    "        'AMTREC',\n",
    "        'JUDGMENT',\n",
    "        # 'MAGISINV',\n",
    "        # 'OTHERINV',\n",
    "        'TAPEYEAR',\n",
    "        'docketnumber',\n",
    "        'district',\n",
    "        'office',\n",
    "    #     'termjudg',\n",
    "    #     'filejudg',\n",
    "    #     'filemag',\n",
    "        'county',\n",
    "        # 'casename',\n",
    "        'fdateuse',\n",
    "    #     'termmag',\n",
    "        'tdateuse',\n",
    "        'TRANSDAT',\n",
    "        'TRCLACT',\n",
    "        # 'DJOINED',\n",
    "        # 'PRETRIAL',\n",
    "        # 'TRIBEGAN',\n",
    "        # 'TRIALEND',\n",
    "        'PROSE',\n",
    "        # 'titl',\n",
    "        # 'section',\n",
    "        # 'subsect',\n",
    "        'arbit',\n",
    "        # 'mdldock',\n",
    "        # 'plt',\n",
    "        # 'def',\n",
    "        'transoff',\n",
    "        # 'transdoc',\n",
    "        # 'transorg',\n",
    "        'trmarb',\n",
    "        'ifp',\n",
    "        'statuscd'\n",
    "    ]\n",
    "\n",
    "\n",
    "    judge_cols = [\n",
    "        'songername',\n",
    "        'party',\n",
    "        'party_Updated',\n",
    "        'partyaffiliationofrenompres',\n",
    "        'partyaffiliationofpresident',\n",
    "        'political_party'\n",
    "    ]\n",
    "\n",
    "    judge2_cols = [\n",
    "        'Judge Name',\n",
    "        'Court Name',\n",
    "        'Party of Appointing President'\n",
    "    ]\n",
    "\n",
    "\n",
    "    opinions_feature_df = opinions_df[opinions_cols]\n",
    "    aoc_feature_df = aoc_df[aoc_cols]\n",
    "    judge_feature_df = judge_df[judge_cols]\n",
    "    judge2_feature_df = judge2_df[judge2_cols]\n",
    "\n",
    "\n",
    "    opinions_feature_df['judge_name'] = opinions_feature_df['case_opinion_by'].str.lower().str.replace(' ', '')\n",
    "    judge2_feature_df['judge_name'] = judge2_feature_df['Judge Name'].str.lower().str.replace(' ', '')\n",
    "    opinions_feature_df['decision_date'] = opinions_feature_df['decision_date'].astype('datetime64[ns]')\n",
    "\n",
    "\n",
    "    y = fuzzymatcher.fuzzy_left_join(\n",
    "        opinions_feature_df,\n",
    "        judge2_feature_df,\n",
    "        left_on = 'judge_name',\n",
    "        right_on = 'judge_name'\n",
    "    )\n",
    "\n",
    "    z = y[(y['judge_name_left'].notnull()) & (y['judge_name_right'].notnull())]\n",
    "    z = z[z['best_match_score'] > 0]\n",
    "\n",
    "    merged_df = pd.merge(\n",
    "        z,\n",
    "        aoc_feature_df,\n",
    "        left_on = ['docket_num_standardized', 'decision_date'],\n",
    "        right_on = ['docketnumber', 'TERMDATE']\n",
    "    )\n",
    "\n",
    "    merged_df = merged_df[[\n",
    "    #     'best_match_score',\n",
    "    #     '__id_left',\n",
    "    #     '__id_right',\n",
    "    #     'docket_num_standardized',\n",
    "    #     'court_name',\n",
    "    #     'case_opinion_by',\n",
    "    #     'judges',\n",
    "        'decision_date',\n",
    "        'filing_date',\n",
    "    #     'judge_name_left',\n",
    "    #     'Judge Name',\n",
    "        'Court Name',\n",
    "        'Party of Appointing President',\n",
    "    #     'judge_name_right',\n",
    "        'CIRCUIT',\n",
    "    #     'FILEDATE',\n",
    "        'JURIS',\n",
    "        'NOS',\n",
    "        'ORIGIN',\n",
    "        'RESIDENC',\n",
    "        'CLASSACT',\n",
    "        'DEMANDED',\n",
    "        'TERMDATE',\n",
    "        'DISP',\n",
    "        'PROCPROG',\n",
    "        'NOJ',\n",
    "        'AMTREC',\n",
    "        'JUDGMENT',\n",
    "        'TAPEYEAR',\n",
    "    #     'docketnumber',\n",
    "        'district',\n",
    "        'office',\n",
    "        'county',\n",
    "    #     'fdateuse',\n",
    "    #     'tdateuse',\n",
    "    #     'TRANSDAT',\n",
    "        'TRCLACT',\n",
    "        'PROSE',\n",
    "        'arbit',\n",
    "        'transoff',\n",
    "        'trmarb',\n",
    "        'ifp',\n",
    "        'statuscd',\n",
    "    ]]\n",
    "    \n",
    "        \n",
    "    outfile = f'/scratch/ayl316/ttml_mr_data/processed_data/{file_name}.csv'\n",
    "    merged_df.to_csv(outfile, index = False)"
   ]
  },
  {
   "cell_type": "code",
   "execution_count": 5,
   "metadata": {},
   "outputs": [
    {
     "name": "stderr",
     "output_type": "stream",
     "text": [
      "/ext3/miniconda3/lib/python3.8/site-packages/pandas/io/stata.py:1433: UnicodeWarning: \n",
      "One or more strings in the dta file could not be decoded using utf-8, and\n",
      "so the fallback encoding of latin-1 is being used.  This can happen when a file\n",
      "has been incorrectly encoded by Stata or some other software. You should verify\n",
      "the string values returned are correct.\n",
      "  warnings.warn(msg, UnicodeWarning)\n"
     ]
    },
    {
     "name": "stdout",
     "output_type": "stream",
     "text": [
      "processing 6414\n"
     ]
    },
    {
     "name": "stderr",
     "output_type": "stream",
     "text": [
      "<ipython-input-4-47f32a0970dc>:107: SettingWithCopyWarning: \n",
      "A value is trying to be set on a copy of a slice from a DataFrame.\n",
      "Try using .loc[row_indexer,col_indexer] = value instead\n",
      "\n",
      "See the caveats in the documentation: https://pandas.pydata.org/pandas-docs/stable/user_guide/indexing.html#returning-a-view-versus-a-copy\n",
      "  opinions_feature_df['judge_name'] = opinions_feature_df['case_opinion_by'].str.lower().str.replace(' ', '')\n",
      "<ipython-input-4-47f32a0970dc>:108: SettingWithCopyWarning: \n",
      "A value is trying to be set on a copy of a slice from a DataFrame.\n",
      "Try using .loc[row_indexer,col_indexer] = value instead\n",
      "\n",
      "See the caveats in the documentation: https://pandas.pydata.org/pandas-docs/stable/user_guide/indexing.html#returning-a-view-versus-a-copy\n",
      "  judge2_feature_df['judge_name'] = judge2_feature_df['Judge Name'].str.lower().str.replace(' ', '')\n",
      "<ipython-input-4-47f32a0970dc>:109: SettingWithCopyWarning: \n",
      "A value is trying to be set on a copy of a slice from a DataFrame.\n",
      "Try using .loc[row_indexer,col_indexer] = value instead\n",
      "\n",
      "See the caveats in the documentation: https://pandas.pydata.org/pandas-docs/stable/user_guide/indexing.html#returning-a-view-versus-a-copy\n",
      "  opinions_feature_df['decision_date'] = opinions_feature_df['decision_date'].astype('datetime64[ns]')\n"
     ]
    },
    {
     "name": "stdout",
     "output_type": "stream",
     "text": [
      "processed 6414 in 23.391019825140635 mins\n",
      "processing 6415\n"
     ]
    },
    {
     "name": "stderr",
     "output_type": "stream",
     "text": [
      "<ipython-input-4-47f32a0970dc>:107: SettingWithCopyWarning: \n",
      "A value is trying to be set on a copy of a slice from a DataFrame.\n",
      "Try using .loc[row_indexer,col_indexer] = value instead\n",
      "\n",
      "See the caveats in the documentation: https://pandas.pydata.org/pandas-docs/stable/user_guide/indexing.html#returning-a-view-versus-a-copy\n",
      "  opinions_feature_df['judge_name'] = opinions_feature_df['case_opinion_by'].str.lower().str.replace(' ', '')\n",
      "<ipython-input-4-47f32a0970dc>:108: SettingWithCopyWarning: \n",
      "A value is trying to be set on a copy of a slice from a DataFrame.\n",
      "Try using .loc[row_indexer,col_indexer] = value instead\n",
      "\n",
      "See the caveats in the documentation: https://pandas.pydata.org/pandas-docs/stable/user_guide/indexing.html#returning-a-view-versus-a-copy\n",
      "  judge2_feature_df['judge_name'] = judge2_feature_df['Judge Name'].str.lower().str.replace(' ', '')\n",
      "<ipython-input-4-47f32a0970dc>:109: SettingWithCopyWarning: \n",
      "A value is trying to be set on a copy of a slice from a DataFrame.\n",
      "Try using .loc[row_indexer,col_indexer] = value instead\n",
      "\n",
      "See the caveats in the documentation: https://pandas.pydata.org/pandas-docs/stable/user_guide/indexing.html#returning-a-view-versus-a-copy\n",
      "  opinions_feature_df['decision_date'] = opinions_feature_df['decision_date'].astype('datetime64[ns]')\n"
     ]
    },
    {
     "name": "stdout",
     "output_type": "stream",
     "text": [
      "processed 6415 in 12.85840946038564 mins\n",
      "processing 6416\n"
     ]
    },
    {
     "name": "stderr",
     "output_type": "stream",
     "text": [
      "<ipython-input-4-47f32a0970dc>:107: SettingWithCopyWarning: \n",
      "A value is trying to be set on a copy of a slice from a DataFrame.\n",
      "Try using .loc[row_indexer,col_indexer] = value instead\n",
      "\n",
      "See the caveats in the documentation: https://pandas.pydata.org/pandas-docs/stable/user_guide/indexing.html#returning-a-view-versus-a-copy\n",
      "  opinions_feature_df['judge_name'] = opinions_feature_df['case_opinion_by'].str.lower().str.replace(' ', '')\n",
      "<ipython-input-4-47f32a0970dc>:108: SettingWithCopyWarning: \n",
      "A value is trying to be set on a copy of a slice from a DataFrame.\n",
      "Try using .loc[row_indexer,col_indexer] = value instead\n",
      "\n",
      "See the caveats in the documentation: https://pandas.pydata.org/pandas-docs/stable/user_guide/indexing.html#returning-a-view-versus-a-copy\n",
      "  judge2_feature_df['judge_name'] = judge2_feature_df['Judge Name'].str.lower().str.replace(' ', '')\n",
      "<ipython-input-4-47f32a0970dc>:109: SettingWithCopyWarning: \n",
      "A value is trying to be set on a copy of a slice from a DataFrame.\n",
      "Try using .loc[row_indexer,col_indexer] = value instead\n",
      "\n",
      "See the caveats in the documentation: https://pandas.pydata.org/pandas-docs/stable/user_guide/indexing.html#returning-a-view-versus-a-copy\n",
      "  opinions_feature_df['decision_date'] = opinions_feature_df['decision_date'].astype('datetime64[ns]')\n"
     ]
    },
    {
     "name": "stdout",
     "output_type": "stream",
     "text": [
      "processed 6416 in 31.319154671827953 mins\n",
      "processing 6417\n"
     ]
    },
    {
     "name": "stderr",
     "output_type": "stream",
     "text": [
      "<ipython-input-4-47f32a0970dc>:107: SettingWithCopyWarning: \n",
      "A value is trying to be set on a copy of a slice from a DataFrame.\n",
      "Try using .loc[row_indexer,col_indexer] = value instead\n",
      "\n",
      "See the caveats in the documentation: https://pandas.pydata.org/pandas-docs/stable/user_guide/indexing.html#returning-a-view-versus-a-copy\n",
      "  opinions_feature_df['judge_name'] = opinions_feature_df['case_opinion_by'].str.lower().str.replace(' ', '')\n",
      "<ipython-input-4-47f32a0970dc>:108: SettingWithCopyWarning: \n",
      "A value is trying to be set on a copy of a slice from a DataFrame.\n",
      "Try using .loc[row_indexer,col_indexer] = value instead\n",
      "\n",
      "See the caveats in the documentation: https://pandas.pydata.org/pandas-docs/stable/user_guide/indexing.html#returning-a-view-versus-a-copy\n",
      "  judge2_feature_df['judge_name'] = judge2_feature_df['Judge Name'].str.lower().str.replace(' ', '')\n",
      "<ipython-input-4-47f32a0970dc>:109: SettingWithCopyWarning: \n",
      "A value is trying to be set on a copy of a slice from a DataFrame.\n",
      "Try using .loc[row_indexer,col_indexer] = value instead\n",
      "\n",
      "See the caveats in the documentation: https://pandas.pydata.org/pandas-docs/stable/user_guide/indexing.html#returning-a-view-versus-a-copy\n",
      "  opinions_feature_df['decision_date'] = opinions_feature_df['decision_date'].astype('datetime64[ns]')\n"
     ]
    },
    {
     "name": "stdout",
     "output_type": "stream",
     "text": [
      "processed 6417 in 21.16165701945623 mins\n",
      "processing 6419\n"
     ]
    },
    {
     "name": "stderr",
     "output_type": "stream",
     "text": [
      "<ipython-input-4-47f32a0970dc>:107: SettingWithCopyWarning: \n",
      "A value is trying to be set on a copy of a slice from a DataFrame.\n",
      "Try using .loc[row_indexer,col_indexer] = value instead\n",
      "\n",
      "See the caveats in the documentation: https://pandas.pydata.org/pandas-docs/stable/user_guide/indexing.html#returning-a-view-versus-a-copy\n",
      "  opinions_feature_df['judge_name'] = opinions_feature_df['case_opinion_by'].str.lower().str.replace(' ', '')\n",
      "<ipython-input-4-47f32a0970dc>:108: SettingWithCopyWarning: \n",
      "A value is trying to be set on a copy of a slice from a DataFrame.\n",
      "Try using .loc[row_indexer,col_indexer] = value instead\n",
      "\n",
      "See the caveats in the documentation: https://pandas.pydata.org/pandas-docs/stable/user_guide/indexing.html#returning-a-view-versus-a-copy\n",
      "  judge2_feature_df['judge_name'] = judge2_feature_df['Judge Name'].str.lower().str.replace(' ', '')\n",
      "<ipython-input-4-47f32a0970dc>:109: SettingWithCopyWarning: \n",
      "A value is trying to be set on a copy of a slice from a DataFrame.\n",
      "Try using .loc[row_indexer,col_indexer] = value instead\n",
      "\n",
      "See the caveats in the documentation: https://pandas.pydata.org/pandas-docs/stable/user_guide/indexing.html#returning-a-view-versus-a-copy\n",
      "  opinions_feature_df['decision_date'] = opinions_feature_df['decision_date'].astype('datetime64[ns]')\n"
     ]
    },
    {
     "name": "stdout",
     "output_type": "stream",
     "text": [
      "processed 6419 in 3.2182838320732117 mins\n",
      "processing 6420\n"
     ]
    },
    {
     "name": "stderr",
     "output_type": "stream",
     "text": [
      "<ipython-input-4-47f32a0970dc>:107: SettingWithCopyWarning: \n",
      "A value is trying to be set on a copy of a slice from a DataFrame.\n",
      "Try using .loc[row_indexer,col_indexer] = value instead\n",
      "\n",
      "See the caveats in the documentation: https://pandas.pydata.org/pandas-docs/stable/user_guide/indexing.html#returning-a-view-versus-a-copy\n",
      "  opinions_feature_df['judge_name'] = opinions_feature_df['case_opinion_by'].str.lower().str.replace(' ', '')\n",
      "<ipython-input-4-47f32a0970dc>:108: SettingWithCopyWarning: \n",
      "A value is trying to be set on a copy of a slice from a DataFrame.\n",
      "Try using .loc[row_indexer,col_indexer] = value instead\n",
      "\n",
      "See the caveats in the documentation: https://pandas.pydata.org/pandas-docs/stable/user_guide/indexing.html#returning-a-view-versus-a-copy\n",
      "  judge2_feature_df['judge_name'] = judge2_feature_df['Judge Name'].str.lower().str.replace(' ', '')\n",
      "<ipython-input-4-47f32a0970dc>:109: SettingWithCopyWarning: \n",
      "A value is trying to be set on a copy of a slice from a DataFrame.\n",
      "Try using .loc[row_indexer,col_indexer] = value instead\n",
      "\n",
      "See the caveats in the documentation: https://pandas.pydata.org/pandas-docs/stable/user_guide/indexing.html#returning-a-view-versus-a-copy\n",
      "  opinions_feature_df['decision_date'] = opinions_feature_df['decision_date'].astype('datetime64[ns]')\n"
     ]
    },
    {
     "name": "stdout",
     "output_type": "stream",
     "text": [
      "processed 6420 in 18.631577614943186 mins\n",
      "processing 6421\n"
     ]
    },
    {
     "name": "stderr",
     "output_type": "stream",
     "text": [
      "<ipython-input-4-47f32a0970dc>:107: SettingWithCopyWarning: \n",
      "A value is trying to be set on a copy of a slice from a DataFrame.\n",
      "Try using .loc[row_indexer,col_indexer] = value instead\n",
      "\n",
      "See the caveats in the documentation: https://pandas.pydata.org/pandas-docs/stable/user_guide/indexing.html#returning-a-view-versus-a-copy\n",
      "  opinions_feature_df['judge_name'] = opinions_feature_df['case_opinion_by'].str.lower().str.replace(' ', '')\n",
      "<ipython-input-4-47f32a0970dc>:108: SettingWithCopyWarning: \n",
      "A value is trying to be set on a copy of a slice from a DataFrame.\n",
      "Try using .loc[row_indexer,col_indexer] = value instead\n",
      "\n",
      "See the caveats in the documentation: https://pandas.pydata.org/pandas-docs/stable/user_guide/indexing.html#returning-a-view-versus-a-copy\n",
      "  judge2_feature_df['judge_name'] = judge2_feature_df['Judge Name'].str.lower().str.replace(' ', '')\n",
      "<ipython-input-4-47f32a0970dc>:109: SettingWithCopyWarning: \n",
      "A value is trying to be set on a copy of a slice from a DataFrame.\n",
      "Try using .loc[row_indexer,col_indexer] = value instead\n",
      "\n",
      "See the caveats in the documentation: https://pandas.pydata.org/pandas-docs/stable/user_guide/indexing.html#returning-a-view-versus-a-copy\n",
      "  opinions_feature_df['decision_date'] = opinions_feature_df['decision_date'].astype('datetime64[ns]')\n"
     ]
    },
    {
     "name": "stdout",
     "output_type": "stream",
     "text": [
      "processed 6421 in 31.30998051961263 mins\n",
      "processing 6422\n"
     ]
    },
    {
     "name": "stderr",
     "output_type": "stream",
     "text": [
      "<ipython-input-4-47f32a0970dc>:107: SettingWithCopyWarning: \n",
      "A value is trying to be set on a copy of a slice from a DataFrame.\n",
      "Try using .loc[row_indexer,col_indexer] = value instead\n",
      "\n",
      "See the caveats in the documentation: https://pandas.pydata.org/pandas-docs/stable/user_guide/indexing.html#returning-a-view-versus-a-copy\n",
      "  opinions_feature_df['judge_name'] = opinions_feature_df['case_opinion_by'].str.lower().str.replace(' ', '')\n",
      "<ipython-input-4-47f32a0970dc>:108: SettingWithCopyWarning: \n",
      "A value is trying to be set on a copy of a slice from a DataFrame.\n",
      "Try using .loc[row_indexer,col_indexer] = value instead\n",
      "\n",
      "See the caveats in the documentation: https://pandas.pydata.org/pandas-docs/stable/user_guide/indexing.html#returning-a-view-versus-a-copy\n",
      "  judge2_feature_df['judge_name'] = judge2_feature_df['Judge Name'].str.lower().str.replace(' ', '')\n",
      "<ipython-input-4-47f32a0970dc>:109: SettingWithCopyWarning: \n",
      "A value is trying to be set on a copy of a slice from a DataFrame.\n",
      "Try using .loc[row_indexer,col_indexer] = value instead\n",
      "\n",
      "See the caveats in the documentation: https://pandas.pydata.org/pandas-docs/stable/user_guide/indexing.html#returning-a-view-versus-a-copy\n",
      "  opinions_feature_df['decision_date'] = opinions_feature_df['decision_date'].astype('datetime64[ns]')\n"
     ]
    },
    {
     "name": "stdout",
     "output_type": "stream",
     "text": [
      "processed 6422 in 7.63101087808609 mins\n"
     ]
    }
   ],
   "source": [
    "import time\n",
    "\n",
    "opinions_file_names = [\n",
    "    '6411',\n",
    "    '6412',\n",
    "    '6413',\n",
    "    '6414',\n",
    "    '6415',\n",
    "    '6416',\n",
    "    '6417',\n",
    "    '6419',\n",
    "    '6420',\n",
    "    '6421',\n",
    "    '6422'\n",
    "]\n",
    "\n",
    "\n",
    "aoc_df = pd.read_stata('/scratch/ns4486/motivated-reasoning/data/aoc_district/districtAOC_dupldropped.dta')\n",
    "judge_df = pd.read_stata('/scratch/ayl316/ttml_mr_data/judges/JudgesBioReshaped_TOUSE.dta')\n",
    "judge2_df = pd.read_csv('/scratch/ayl316/ttml_mr_data/judges/federal-judicial-service.csv')\n",
    "\n",
    "for file_name in opinions_file_names:\n",
    "    print('processing ' + str(file_name))\n",
    "    start_time = time.time()\n",
    "    opinions_df = pd.read_json(f'/scratch/ayl316/ttml_mr_data/xml_jsons/{file_name}.json', lines = True)\n",
    "    merge_data(opinions_df, aoc_df, judge2_df)\n",
    "    end_time = time.time()\n",
    "    \n",
    "    del opinions_df\n",
    "    \n",
    "    print('processed ' + str(file_name) + ' in ' + str((end_time - start_time) / 60) + ' mins')"
   ]
  },
  {
   "cell_type": "code",
   "execution_count": 7,
   "metadata": {},
   "outputs": [
    {
     "name": "stderr",
     "output_type": "stream",
     "text": [
      "/ext3/miniconda3/lib/python3.8/site-packages/IPython/core/interactiveshell.py:3145: DtypeWarning: Columns (19) have mixed types.Specify dtype option on import or set low_memory=False.\n",
      "  has_raised = await self.run_ast_nodes(code_ast.body, cell_name,\n",
      "/ext3/miniconda3/lib/python3.8/site-packages/IPython/core/interactiveshell.py:3145: DtypeWarning: Columns (20,25) have mixed types.Specify dtype option on import or set low_memory=False.\n",
      "  has_raised = await self.run_ast_nodes(code_ast.body, cell_name,\n",
      "/ext3/miniconda3/lib/python3.8/site-packages/IPython/core/interactiveshell.py:3145: DtypeWarning: Columns (20) have mixed types.Specify dtype option on import or set low_memory=False.\n",
      "  has_raised = await self.run_ast_nodes(code_ast.body, cell_name,\n"
     ]
    }
   ],
   "source": [
    "all_df = None\n",
    "\n",
    "for file_name in opinions_file_names:\n",
    "    df = pd.read_csv(f'/scratch/ayl316/ttml_mr_data/processed_data/{file_name}.csv')\n",
    "    \n",
    "    if all_df is None:\n",
    "        all_df = df\n",
    "    else:\n",
    "        all_df = pd.concat([all_df, df], ignore_index = True)\n",
    "\n"
   ]
  },
  {
   "cell_type": "code",
   "execution_count": 8,
   "metadata": {},
   "outputs": [
    {
     "name": "stdout",
     "output_type": "stream",
     "text": [
      "<class 'pandas.core.frame.DataFrame'>\n",
      "RangeIndex: 1219459 entries, 0 to 1219458\n",
      "Data columns (total 28 columns):\n",
      " #   Column                         Non-Null Count    Dtype  \n",
      "---  ------                         --------------    -----  \n",
      " 0   decision_date                  1219459 non-null  object \n",
      " 1   filing_date                    907546 non-null   object \n",
      " 2   Court Name                     1219459 non-null  object \n",
      " 3   Party of Appointing President  1208959 non-null  object \n",
      " 4   CIRCUIT                        1219459 non-null  float64\n",
      " 5   JURIS                          1219459 non-null  float64\n",
      " 6   NOS                            1219459 non-null  float64\n",
      " 7   ORIGIN                         1219459 non-null  float64\n",
      " 8   RESIDENC                       1219459 non-null  float64\n",
      " 9   CLASSACT                       1219459 non-null  float64\n",
      " 10  DEMANDED                       1219459 non-null  float64\n",
      " 11  TERMDATE                       1219459 non-null  object \n",
      " 12  DISP                           1219459 non-null  float64\n",
      " 13  PROCPROG                       1219459 non-null  float64\n",
      " 14  NOJ                            1219459 non-null  float64\n",
      " 15  AMTREC                         1219459 non-null  float64\n",
      " 16  JUDGMENT                       1219459 non-null  float64\n",
      " 17  TAPEYEAR                       1219459 non-null  float64\n",
      " 18  district                       1219459 non-null  object \n",
      " 19  office                         1219459 non-null  object \n",
      " 20  county                         1219459 non-null  object \n",
      " 21  TRCLACT                        1053966 non-null  float64\n",
      " 22  PROSE                          1053966 non-null  float64\n",
      " 23  arbit                          1053966 non-null  object \n",
      " 24  transoff                       1053966 non-null  float64\n",
      " 25  trmarb                         1053966 non-null  object \n",
      " 26  ifp                            815306 non-null   object \n",
      " 27  statuscd                       815306 non-null   object \n",
      "dtypes: float64(16), object(12)\n",
      "memory usage: 260.5+ MB\n"
     ]
    }
   ],
   "source": [
    "all_df.info()"
   ]
  },
  {
   "cell_type": "code",
   "execution_count": 15,
   "metadata": {},
   "outputs": [],
   "source": [
    "all_df.to_csv('/scratch/ayl316/ttml_mr_data/processed_data/cases.csv.zip', compression = 'zip', index = False)"
   ]
  },
  {
   "cell_type": "code",
   "execution_count": 16,
   "metadata": {},
   "outputs": [
    {
     "name": "stderr",
     "output_type": "stream",
     "text": [
      "/ext3/miniconda3/lib/python3.8/site-packages/IPython/core/interactiveshell.py:3145: DtypeWarning: Columns (19,20,25) have mixed types.Specify dtype option on import or set low_memory=False.\n",
      "  has_raised = await self.run_ast_nodes(code_ast.body, cell_name,\n"
     ]
    }
   ],
   "source": [
    "df = pd.read_csv('/scratch/ayl316/ttml_mr_data/processed_data/cases.csv.zip')"
   ]
  },
  {
   "cell_type": "code",
   "execution_count": 18,
   "metadata": {},
   "outputs": [
    {
     "data": {
      "text/plain": [
       "(1219459, 28)"
      ]
     },
     "execution_count": 18,
     "metadata": {},
     "output_type": "execute_result"
    }
   ],
   "source": [
    "df.shape"
   ]
  },
  {
   "cell_type": "code",
   "execution_count": null,
   "metadata": {},
   "outputs": [],
   "source": []
  }
 ],
 "metadata": {
  "kernelspec": {
   "display_name": "Python 3",
   "language": "python",
   "name": "python3"
  },
  "language_info": {
   "codemirror_mode": {
    "name": "ipython",
    "version": 3
   },
   "file_extension": ".py",
   "mimetype": "text/x-python",
   "name": "python",
   "nbconvert_exporter": "python",
   "pygments_lexer": "ipython3",
   "version": "3.8.6"
  }
 },
 "nbformat": 4,
 "nbformat_minor": 4
}
