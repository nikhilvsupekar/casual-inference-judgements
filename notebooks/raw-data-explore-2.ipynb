{
 "cells": [
  {
   "cell_type": "code",
   "execution_count": 1,
   "metadata": {},
   "outputs": [],
   "source": [
    "import numpy as np\n",
    "import pandas as pd\n"
   ]
  },
  {
   "cell_type": "code",
   "execution_count": 5,
   "metadata": {},
   "outputs": [
    {
     "name": "stdout",
     "output_type": "stream",
     "text": [
      "total 0\r\n",
      "drwxr-xr-x  3 nikhilvs  staff   96 Apr  6 22:21 \u001b[1m\u001b[36mdistrict\u001b[m\u001b[m\r\n",
      "drwxr-xr-x  3 nikhilvs  staff   96 Apr  6 22:21 \u001b[1m\u001b[36mjudges\u001b[m\u001b[m\r\n",
      "drwxr-xr-x  4 nikhilvs  staff  128 Apr  6 22:25 \u001b[1m\u001b[36mopinions\u001b[m\u001b[m\r\n",
      "\r\n",
      "/Users/nikhilvs/Downloads/ttml_data/district:\r\n",
      "total 7438528\r\n",
      "-rw-r--r--@ 1 nikhilvs  staff  3798216894 Apr  6 22:18 districtAOC_dupldropped.dta\r\n",
      "\r\n",
      "/Users/nikhilvs/Downloads/ttml_data/judges:\r\n",
      "total 30840\r\n",
      "-rw-r--r--@ 1 nikhilvs  staff  15789233 Mar 31 10:36 JudgesBioReshaped_TOUSE.dta\r\n",
      "\r\n",
      "/Users/nikhilvs/Downloads/ttml_data/opinions:\r\n",
      "total 13632296\r\n",
      "-rw-r--r--@ 1 nikhilvs  staff  6976609760 Mar 30 15:26 6411.zip\r\n"
     ]
    }
   ],
   "source": [
    "! ls -lR ~/Downloads/ttml_data"
   ]
  },
  {
   "cell_type": "code",
   "execution_count": 7,
   "metadata": {},
   "outputs": [],
   "source": [
    "base_dir = '~/Downloads/ttml_data/'"
   ]
  },
  {
   "cell_type": "code",
   "execution_count": 8,
   "metadata": {},
   "outputs": [],
   "source": [
    "judge_df = pd.read_stata(base_dir + 'judges/JudgesBioReshaped_TOUSE.dta')"
   ]
  },
  {
   "cell_type": "code",
   "execution_count": 9,
   "metadata": {},
   "outputs": [
    {
     "data": {
      "text/plain": [
       "(4096, 187)"
      ]
     },
     "execution_count": 9,
     "metadata": {},
     "output_type": "execute_result"
    }
   ],
   "source": [
    "judge_df.shape"
   ]
  },
  {
   "cell_type": "code",
   "execution_count": 18,
   "metadata": {},
   "outputs": [
    {
     "data": {
      "text/plain": [
       "3486"
      ]
     },
     "execution_count": 18,
     "metadata": {},
     "output_type": "execute_result"
    }
   ],
   "source": [
    "len(judge_df['judgeidentificationnumber'].unique())"
   ]
  },
  {
   "cell_type": "code",
   "execution_count": 21,
   "metadata": {},
   "outputs": [
    {
     "name": "stdout",
     "output_type": "stream",
     "text": [
      "songername\n",
      "judgeidentificationnumber\n",
      "Term\n",
      "id\n",
      "AppointmentDate\n",
      "TerminationDate\n",
      "courtname\n",
      "courttype\n",
      "abarating\n",
      "AbaUpdate\n",
      "SenateConfirmationdate\n",
      "RecessAppointDate\n",
      "birthday\n",
      "birthmonth\n",
      "birthyear\n",
      "deathmonth\n",
      "deathday\n",
      "deathyear\n",
      "JudgeAssignedCourt\n",
      "judgelastname\n",
      "judgefirstname\n",
      "judgemiddlename\n",
      "suffix\n",
      "Circuitjudge\n",
      "SeatState\n",
      "retirementfromactiveservice\n",
      "dateaschiefjudgebegin\n",
      "presidentname\n",
      "seconddateaschiefjudgebegin\n",
      "senatevoicevote\n",
      "senatevoteayesnays\n",
      "Committeeactiondate\n",
      "Degree1\n",
      "Degree2\n",
      "Degree3\n",
      "Degree4\n",
      "Degree5\n",
      "degreeyear1\n",
      "degreeyear2\n",
      "degreeyear3\n",
      "degreeyear4\n",
      "degreeyear5\n",
      "Committeeaction\n",
      "ageon\n",
      "vicelastnamepredecessor\n",
      "vicefirstnamepredecessor\n",
      "hearings\n",
      "reportnumber\n",
      "authorizationlegislation\n",
      "placeofbirthcity\n",
      "placeofbirthstate\n",
      "placeofdeathcity\n",
      "placeofdeathstate\n",
      "deathdate\n",
      "party_Updated\n",
      "dateaschiefjudgeend\n",
      "seconddateaschiefjudgeend\n",
      "renominatingpresidentname\n",
      "partyaffiliationofrenompres\n",
      "referraldatejudicialcom\n",
      "degree\n",
      "degree_law\n",
      "degree_other\n",
      "district\n",
      "nominationdatesenateexecutivej\n",
      "genderNew\n",
      "raceorethnicity\n",
      "partyaffiliationofpresident\n",
      "recessappointmentdate\n",
      "committeeaction\n",
      "committeeactiondate\n",
      "senatevotedateconfirmationdate\n",
      "commissiondate\n",
      "dateoftermination\n",
      "terminationspecificreason\n",
      "nameofschool1\n",
      "degree1\n",
      "nameofschool2\n",
      "degree2\n",
      "nameofschool3\n",
      "degree3\n",
      "nameofschool4\n",
      "degree4\n",
      "nameofschool5\n",
      "degree5\n",
      "employmenttextfield\n",
      "bankruptcyandmagistrateservice\n",
      "Nominationdate\n",
      "District_Circuit\n",
      "party\n",
      "pres\n",
      "left\n",
      "state\n",
      "city\n",
      "appres\n",
      "aba\n",
      "congresi\n",
      "unityi\n",
      "hdem\n",
      "hrep\n",
      "sdem\n",
      "srep\n",
      "hother\n",
      "sother\n",
      "x_dem\n",
      "x_republican\n",
      "x_instate_ba\n",
      "x_elev\n",
      "x_unity\n",
      "x_aba\n",
      "x_crossa\n",
      "x_pfedjdge\n",
      "x_pindreg1\n",
      "x_plawprof\n",
      "x_pscab\n",
      "x_pcab\n",
      "x_pusa\n",
      "x_pssenate\n",
      "x_paag\n",
      "x_psp\n",
      "x_pslc\n",
      "x_pssc\n",
      "x_pshouse\n",
      "x_psg\n",
      "x_psgo\n",
      "x_psenate\n",
      "x_psatty\n",
      "x_pprivate\n",
      "x_pmayor\n",
      "x_plocct\n",
      "x_phouse\n",
      "x_pgov\n",
      "x_pda\n",
      "x_pcc\n",
      "x_pccoun\n",
      "x_pausa\n",
      "x_pasatty\n",
      "x_pag\n",
      "x_pada\n",
      "x_pgovt\n",
      "x_llm_sjd\n",
      "x_protestant\n",
      "x_evangelical\n",
      "x_mainline\n",
      "x_noreligion\n",
      "x_catholic\n",
      "x_jewish\n",
      "x_black\n",
      "x_nonwhite\n",
      "x_female\n",
      "x_jd_public\n",
      "x_ba_public\n",
      "x_b10s\n",
      "x_b20s\n",
      "x_b30s\n",
      "x_b40s\n",
      "x_b50s\n",
      "x_pbank\n",
      "x_pmag\n",
      "SchoolState1\n",
      "Public1\n",
      "Private1\n",
      "SchoolState2\n",
      "Public2\n",
      "Private2\n",
      "SchoolState3\n",
      "Public3\n",
      "Private3\n",
      "SchoolState4\n",
      "Public4\n",
      "Private4\n",
      "SchoolState5\n",
      "Public5\n",
      "Private5\n",
      "TonotInclude\n",
      "idtocorrrect\n",
      "ayear\n",
      "x_ageon40s\n",
      "x_ageon50s\n",
      "x_ageon60s\n",
      "x_ageon40orless\n",
      "x_ageon70ormore\n",
      "pres_correct2\n",
      "political_party\n",
      "_merge\n",
      "x_pago\n",
      "startdate\n"
     ]
    }
   ],
   "source": [
    "for x in judge_df.columns:\n",
    "    print(x)"
   ]
  },
  {
   "cell_type": "code",
   "execution_count": 22,
   "metadata": {},
   "outputs": [
    {
     "name": "stderr",
     "output_type": "stream",
     "text": [
      "/Users/nikhilvs/anaconda3/lib/python3.7/site-packages/pandas/io/stata.py:1417: UnicodeWarning: \n",
      "One or more strings in the dta file could not be decoded using utf-8, and\n",
      "so the fallback encoding of latin-1 is being used.  This can happen when a file\n",
      "has been incorrectly encoded by Stata or some other software. You should verify\n",
      "the string values returned are correct.\n",
      "  warnings.warn(msg, UnicodeWarning)\n"
     ]
    }
   ],
   "source": [
    "dist_df = pd.read_stata(base_dir + 'district/districtAOC_dupldropped.dta')"
   ]
  },
  {
   "cell_type": "code",
   "execution_count": 23,
   "metadata": {},
   "outputs": [
    {
     "data": {
      "text/plain": [
       "(10639172, 48)"
      ]
     },
     "execution_count": 23,
     "metadata": {},
     "output_type": "execute_result"
    }
   ],
   "source": [
    "dist_df.shape"
   ]
  },
  {
   "cell_type": "code",
   "execution_count": 30,
   "metadata": {},
   "outputs": [
    {
     "data": {
      "text/plain": [
       "Index(['CIRCUIT', 'FILEDATE', 'JURIS', 'NOS', 'ORIGIN', 'RESIDENC', 'CLASSACT',\n",
       "       'DEMANDED', 'TERMDATE', 'DISP', 'PROCPROG', 'NOJ', 'AMTREC', 'JUDGMENT',\n",
       "       'MAGISINV', 'OTHERINV', 'TAPEYEAR', 'docketnumber', 'district',\n",
       "       'office', 'termjudg', 'filejudg', 'filemag', 'county', 'casename',\n",
       "       'fdateuse', 'termmag', 'tdateuse', 'TRANSDAT', 'TRCLACT', 'DJOINED',\n",
       "       'PRETRIAL', 'TRIBEGAN', 'TRIALEND', 'PROSE', 'titl', 'section',\n",
       "       'subsect', 'arbit', 'mdldock', 'plt', 'def', 'transoff', 'transdoc',\n",
       "       'transorg', 'trmarb', 'ifp', 'statuscd'],\n",
       "      dtype='object')"
      ]
     },
     "execution_count": 30,
     "metadata": {},
     "output_type": "execute_result"
    }
   ],
   "source": [
    "dist_df.columns"
   ]
  },
  {
   "cell_type": "code",
   "execution_count": 29,
   "metadata": {},
   "outputs": [
    {
     "data": {
      "text/plain": [
       "-8.0    4682744\n",
       " 2.0    1330126\n",
       " 0.0    1312837\n",
       " 4.0    1206114\n",
       " 1.0    1117518\n",
       "-9.0     915225\n",
       " 3.0      74608\n",
       "Name: JUDGMENT, dtype: int64"
      ]
     },
     "execution_count": 29,
     "metadata": {},
     "output_type": "execute_result"
    }
   ],
   "source": [
    "dist_df['JUDGMENT'].value_counts()"
   ]
  },
  {
   "cell_type": "code",
   "execution_count": 31,
   "metadata": {},
   "outputs": [
    {
     "data": {
      "text/html": [
       "<div>\n",
       "<style scoped>\n",
       "    .dataframe tbody tr th:only-of-type {\n",
       "        vertical-align: middle;\n",
       "    }\n",
       "\n",
       "    .dataframe tbody tr th {\n",
       "        vertical-align: top;\n",
       "    }\n",
       "\n",
       "    .dataframe thead th {\n",
       "        text-align: right;\n",
       "    }\n",
       "</style>\n",
       "<table border=\"1\" class=\"dataframe\">\n",
       "  <thead>\n",
       "    <tr style=\"text-align: right;\">\n",
       "      <th></th>\n",
       "      <th>docketnumber</th>\n",
       "      <th>district</th>\n",
       "      <th>TERMDATE</th>\n",
       "    </tr>\n",
       "  </thead>\n",
       "  <tbody>\n",
       "    <tr>\n",
       "      <th>0</th>\n",
       "      <td>0553529</td>\n",
       "      <td>90</td>\n",
       "      <td>1970-05-26</td>\n",
       "    </tr>\n",
       "    <tr>\n",
       "      <th>1</th>\n",
       "      <td>0591077</td>\n",
       "      <td>90</td>\n",
       "      <td>1970-04-10</td>\n",
       "    </tr>\n",
       "    <tr>\n",
       "      <th>2</th>\n",
       "      <td>0591366</td>\n",
       "      <td>90</td>\n",
       "      <td>1970-02-13</td>\n",
       "    </tr>\n",
       "    <tr>\n",
       "      <th>3</th>\n",
       "      <td>6003837</td>\n",
       "      <td>90</td>\n",
       "      <td>1969-10-27</td>\n",
       "    </tr>\n",
       "    <tr>\n",
       "      <th>4</th>\n",
       "      <td>6004181</td>\n",
       "      <td>90</td>\n",
       "      <td>1969-10-08</td>\n",
       "    </tr>\n",
       "  </tbody>\n",
       "</table>\n",
       "</div>"
      ],
      "text/plain": [
       "  docketnumber district   TERMDATE\n",
       "0      0553529       90 1970-05-26\n",
       "1      0591077       90 1970-04-10\n",
       "2      0591366       90 1970-02-13\n",
       "3      6003837       90 1969-10-27\n",
       "4      6004181       90 1969-10-08"
      ]
     },
     "execution_count": 31,
     "metadata": {},
     "output_type": "execute_result"
    }
   ],
   "source": [
    "dist_df[['docketnumber', 'district', 'TERMDATE']].head()"
   ]
  },
  {
   "cell_type": "code",
   "execution_count": null,
   "metadata": {},
   "outputs": [],
   "source": []
  }
 ],
 "metadata": {
  "kernelspec": {
   "display_name": "Python 3.7.3 64-bit ('base': conda)",
   "language": "python",
   "name": "python37364bitbaseconda5256b649568d47b0ada5f4982042f9e1"
  },
  "language_info": {
   "codemirror_mode": {
    "name": "ipython",
    "version": 3
   },
   "file_extension": ".py",
   "mimetype": "text/x-python",
   "name": "python",
   "nbconvert_exporter": "python",
   "pygments_lexer": "ipython3",
   "version": "3.7.7"
  }
 },
 "nbformat": 4,
 "nbformat_minor": 4
}
